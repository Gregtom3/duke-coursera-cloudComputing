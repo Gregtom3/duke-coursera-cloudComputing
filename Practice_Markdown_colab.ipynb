{
  "cells": [
    {
      "cell_type": "markdown",
      "metadata": {
        "id": "view-in-github",
        "colab_type": "text"
      },
      "source": [
        "<a href=\"https://colab.research.google.com/github/Gregtom3/duke-coursera-cloudComputing/blob/main/Practice_Markdown_colab.ipynb\" target=\"_parent\"><img src=\"https://colab.research.google.com/assets/colab-badge.svg\" alt=\"Open In Colab\"/></a>"
      ]
    },
    {
      "cell_type": "markdown",
      "metadata": {
        "id": "mEK5wXxyW_Wl"
      },
      "source": [
        "## Practice Markdown"
      ]
    },
    {
      "cell_type": "markdown",
      "metadata": {
        "id": "9U4vBWuPW_Wm"
      },
      "source": [
        "This notebook lets you experiment with producing repeatable technical documentation.  Use this notebook to do the following actions:\n",
        "\n",
        "* Create a code cell and print a Python Hello World statement:  `print(\"hello world\")`\n",
        "* Create a Markdown Cell and add a Title using `#` and then a statement using plain text.  You can looks at the source code for this cell to get an idea of how to use Markdown.\n",
        "* Take some ideas from the [Master Markdown Github Guide](https://guides.github.com/features/mastering-markdown/) and implement them here.\n",
        "* Download this notebook as a `.ipynb` file and check into a Github Project.  You can [see an example here](https://github.com/noahgift/duke-coursera-ccf-lab1/blob/main/Practice-Markdown.ipynb).\n",
        "* Open your notebook in Google Colab and save it into the same Github Project.  You can [see an example here](https://github.com/noahgift/duke-coursera-ccf-lab1/blob/main/Practice_Markdown_with_colab.ipynb).\n"
      ]
    },
    {
      "cell_type": "code",
      "execution_count": null,
      "metadata": {
        "id": "8OYun5opW_Wm",
        "outputId": "ebd7a5bb-d1a6-4ca6-dd61-8e7155af8a19"
      },
      "outputs": [
        {
          "data": {
            "text/plain": [
              "'Hello World!'"
            ]
          },
          "execution_count": 1,
          "metadata": {},
          "output_type": "execute_result"
        }
      ],
      "source": [
        "# Printing a 'Hello World' statement\n",
        "def hello():\n",
        "    return \"Hello World!\"\n",
        "hello()"
      ]
    },
    {
      "cell_type": "markdown",
      "metadata": {
        "id": "Ei1B8US1W_Wn"
      },
      "source": [
        "# Types of Cheese\n",
        "\n",
        "Below are some of the *best* types of cheese:\n",
        "\n",
        "* Brie\n",
        "<img src=\"https://github.com/user-attachments/assets/476d6118-30e7-4a1c-a397-330759a3b8ae\" alt=\"brie\" width=\"200\"/>\n",
        "\n",
        "* Cheddar\n",
        "* Pepperjack\n",
        "\n",
        "Below are some of the **worst** types of cheese:\n",
        "\n",
        "* Moldy\n",
        "* Canned\n",
        "<img src=\"https://github.com/user-attachments/assets/a8b5ec57-f9f7-4a92-baba-1f3418b3ae8c\" alt=\"canned\" width=\"200\"/>\n",
        "* American (<ins>except on hamburgers</ins>)"
      ]
    },
    {
      "cell_type": "code",
      "execution_count": null,
      "metadata": {
        "id": "I_OY5amJW_Wn"
      },
      "outputs": [],
      "source": []
    }
  ],
  "metadata": {
    "kernelspec": {
      "display_name": "Python 3",
      "language": "python",
      "name": "python3"
    },
    "language_info": {
      "codemirror_mode": {
        "name": "ipython",
        "version": 3
      },
      "file_extension": ".py",
      "mimetype": "text/x-python",
      "name": "python",
      "nbconvert_exporter": "python",
      "pygments_lexer": "ipython3",
      "version": "3.7.6"
    },
    "colab": {
      "provenance": [],
      "include_colab_link": true
    }
  },
  "nbformat": 4,
  "nbformat_minor": 0
}